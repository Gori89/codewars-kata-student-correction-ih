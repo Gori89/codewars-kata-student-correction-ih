{
 "cells": [
  {
   "cell_type": "code",
   "execution_count": 1,
   "metadata": {},
   "outputs": [],
   "source": [
    "# Imports\n",
    "\n",
    "import pandas as pd\n",
    "import numpy as np\n",
    "import requests\n",
    "import json\n",
    "from bs4 import BeautifulSoup\n",
    "import random \n",
    "\n",
    "from adquire_functions import get_students_and_katas\n",
    "from cleaning_funcions import clean_katas"
   ]
  },
  {
   "cell_type": "code",
   "execution_count": 2,
   "metadata": {},
   "outputs": [],
   "source": [
    "\n",
    "\n",
    "\n",
    "\n",
    "def adquire(): \n",
    "    return get_students_and_katas()\n",
    "\n",
    "def cleaning(df_students, df_katas): \n",
    "    return df_students, clean_katas(df_katas)\n"
   ]
  },
  {
   "cell_type": "code",
   "execution_count": null,
   "metadata": {},
   "outputs": [],
   "source": [
    "# https://www.codewars.com/api/v1/users/Livia Canet/code-challenges/completed\n",
    "# https://www.codewars.com/kata/\n",
    "\n",
    "def get_completed_by_user(user, host='https://www.codewars.com/api/v1/users/', \n",
    "                          path='/code-challenges/completed'):\n",
    "    url = host + user + path\n",
    "    resp = requests.get(url)\n",
    "    \n",
    "    return resp.json()\n",
    "\n",
    "def user_time_kata(user, slug, completed, katas): \n",
    "    res = '2090-01-01T00:00:00.000Z'# default\n",
    "    for data in completed[user]: \n",
    "        if data['slug'] == slug: \n",
    "            res = data['completedAt']\n",
    "            break\n",
    "    return res\n",
    "\n",
    "def create_df_checking(df_students, df_katas): \n",
    "    katas = df_katas.index\n",
    "    students = df_students.index\n",
    "    \n",
    "    # Creamos un DataFrame: Students x Katas\n",
    "    df_res = pd.DataFrame(index=df_students.index, columns=df_katas.index)\n",
    "    \n",
    "    # tarda un rato\n",
    "    completed = {u: get_completed_by_user(u) for u in df_students.index}    \n",
    "    completed_katas_dict = dict( [(k, v['data']) for k, v in completed.items()] )\n",
    "       \n",
    "    # cada celda es el tiempo que ese student(row) tardó en realizar la kata(column)\n",
    "    for user in students: \n",
    "        for slug in katas: \n",
    "            df_res.loc[user, slug] = user_time_kata(user, slug, completed_katas_dict, katas)\n",
    "    \n",
    "    # convertimos las columnas a tipo Datetime\n",
    "    for col in df_res.columns: \n",
    "        df_res[col] = pd.to_datetime(df_res[col],infer_datetime_format=True)\n",
    "    # En este punto df_res son valores temporales\n",
    "    \n",
    "    # comprobamos si ocurren antes del límite\n",
    "    for user in students: \n",
    "        df_res.loc[user] = df_res.loc[user] < df_katas.limit\n",
    "    \n",
    "    return df_res\n",
    "    \n",
    "    \n",
    "# df = create_df_checking(df_students, df_katas)\n",
    "# df.head()\n"
   ]
  },
  {
   "cell_type": "code",
   "execution_count": null,
   "metadata": {},
   "outputs": [],
   "source": [
    "def save_results(df, path='results.csv'): \n",
    "    df.to_csv(path, index=True)\n",
    "    \n",
    "def choose_presenter_last_kata(df): \n",
    "    last_kata = df.columns[-1]\n",
    "    completada = list(df[df[last_kata]].index)\n",
    "    return random.choice(completada)\n",
    "\n",
    "def display_presenter_last_kata(df): \n",
    "    student = choose_presenter_last_kata(df)\n",
    "    last_kata = df.columns[-1]\n",
    "    print('{} presentará la kata {}'.format(student, last_kata))"
   ]
  },
  {
   "cell_type": "code",
   "execution_count": null,
   "metadata": {},
   "outputs": [],
   "source": [
    "   \n",
    "    \n",
    "\n",
    "def main(): \n",
    "    df_students, df_katas = adquire()\n",
    "    df_students, df_katas = cleaning(df_students, df_katas)\n",
    "    df = create_df_checking(df_students, df_katas)\n",
    "    display(df)    \n",
    "    save_results(df)\n",
    "    display_presenter_last_kata(df)\n",
    "\n",
    "if __name__ == '__main__':\n",
    "    main()"
   ]
  },
  {
   "cell_type": "code",
   "execution_count": null,
   "metadata": {},
   "outputs": [],
   "source": [
    "\n",
    "\n"
   ]
  },
  {
   "cell_type": "code",
   "execution_count": null,
   "metadata": {},
   "outputs": [],
   "source": []
  }
 ],
 "metadata": {
  "kernelspec": {
   "display_name": "Python 3",
   "language": "python",
   "name": "python3"
  },
  "language_info": {
   "codemirror_mode": {
    "name": "ipython",
    "version": 3
   },
   "file_extension": ".py",
   "mimetype": "text/x-python",
   "name": "python",
   "nbconvert_exporter": "python",
   "pygments_lexer": "ipython3",
   "version": "3.6.7"
  }
 },
 "nbformat": 4,
 "nbformat_minor": 2
}
