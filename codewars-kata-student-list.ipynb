{
 "cells": [
  {
   "cell_type": "code",
   "execution_count": 2,
   "metadata": {},
   "outputs": [
    {
     "ename": "SyntaxError",
     "evalue": "invalid syntax (<ipython-input-2-beeadbfd9676>, line 7)",
     "output_type": "error",
     "traceback": [
      "\u001b[0;36m  File \u001b[0;32m\"<ipython-input-2-beeadbfd9676>\"\u001b[0;36m, line \u001b[0;32m7\u001b[0m\n\u001b[0;31m    'Almudena Gonzalez Salcedo':\u001b[0m\n\u001b[0m                               ^\u001b[0m\n\u001b[0;31mSyntaxError\u001b[0m\u001b[0;31m:\u001b[0m invalid syntax\n"
     ]
    }
   ],
   "source": [
    "import pandas as pd\n",
    "import numpy as np\n",
    "\n",
    "lista_katas = []\n",
    "alumnos = {\n",
    "    'Paula Postigo Rodrigo': 'paulapr'\n",
    "    'Almudena Gonzalez Salcedo': 'Almugs'\n",
    "    'Héctor Moreno Álvarez': 'hector-moreno'\n",
    "    'Octavio Garcia Moreno': 'potacho'\n",
    "    'Carlos Alberto Madriz Delgado': 'carlosmd14'\n",
    "    'Livia Canet': 'Livia Canet'\n",
    "    'Alejandro Frank': 'AlejandroFrank'\n",
    "    'Alejandro Perela Posada': 'AlejandroPerela'\n",
    "    'Leyre Marazuela': 'leyremarazuela'\n",
    "    'Laura Repullo': 'LauraRepullo'\n",
    "    'Pablo Ramos': 'pecatade'\n",
    "    'Nicolas Sanchez': 'NicoST1'\n",
    "    'Luis Martínez Ruiz': 'lmartinezruizit'\n",
    "    'Rodrigo Hernandez': 'RodMech'\n",
    "}\n",
    "\n",
    "'''\n",
    "https://www.codewars.com/users/\n",
    "https://www.codewars.com/users/\n",
    "https://www.codewars.com/users/\n",
    "https://www.codewars.com/users/\n",
    "https://www.codewars.com/users/\n",
    "https://www.codewars.com/users/\n",
    "https://www.codewars.com/users/\n",
    "https://www.codewars.com/users/\n",
    "\n",
    "https://www.codewars.com/users/\n",
    "https://www.codewars.com/users/\n",
    "https://www.codewars.com/users/\n",
    "https://www.codewars.com/users/\n",
    "https://www.codewars.com/users/\n",
    "'''\n",
    "\n",
    "# https://www.codewars.com/api/v1/users/Livia Canet/code-challenges/completed"
   ]
  },
  {
   "cell_type": "code",
   "execution_count": null,
   "metadata": {},
   "outputs": [],
   "source": []
  }
 ],
 "metadata": {
  "kernelspec": {
   "display_name": "Python 3",
   "language": "python",
   "name": "python3"
  },
  "language_info": {
   "codemirror_mode": {
    "name": "ipython",
    "version": 3
   },
   "file_extension": ".py",
   "mimetype": "text/x-python",
   "name": "python",
   "nbconvert_exporter": "python",
   "pygments_lexer": "ipython3",
   "version": "3.6.7"
  }
 },
 "nbformat": 4,
 "nbformat_minor": 2
}
