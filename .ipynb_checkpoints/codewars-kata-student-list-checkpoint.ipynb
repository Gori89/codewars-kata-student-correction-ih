{
 "cells": [
  {
   "cell_type": "code",
   "execution_count": 5,
   "metadata": {},
   "outputs": [],
   "source": [
    "# Imports\n",
    "\n",
    "import pandas as pd\n",
    "import numpy as np\n",
    "import requests\n",
    "import json\n",
    "from bs4 import BeautifulSoup"
   ]
  },
  {
   "cell_type": "code",
   "execution_count": null,
   "metadata": {},
   "outputs": [],
   "source": [
    "# Students\n",
    "\n",
    "students = pd.read_csv('input/students.csv')\n",
    "students"
   ]
  },
  {
   "cell_type": "code",
   "execution_count": 25,
   "metadata": {},
   "outputs": [
    {
     "data": {
      "text/html": [
       "<div>\n",
       "<style scoped>\n",
       "    .dataframe tbody tr th:only-of-type {\n",
       "        vertical-align: middle;\n",
       "    }\n",
       "\n",
       "    .dataframe tbody tr th {\n",
       "        vertical-align: top;\n",
       "    }\n",
       "\n",
       "    .dataframe thead th {\n",
       "        text-align: right;\n",
       "    }\n",
       "</style>\n",
       "<table border=\"1\" class=\"dataframe\">\n",
       "  <thead>\n",
       "    <tr style=\"text-align: right;\">\n",
       "      <th></th>\n",
       "      <th>kata</th>\n",
       "      <th>date</th>\n",
       "      <th>minutes</th>\n",
       "    </tr>\n",
       "  </thead>\n",
       "  <tbody>\n",
       "    <tr>\n",
       "      <th>0</th>\n",
       "      <td>RegExp Fun #1 - When I miss few days of gym</td>\n",
       "      <td>NaN</td>\n",
       "      <td>NaN</td>\n",
       "    </tr>\n",
       "    <tr>\n",
       "      <th>1</th>\n",
       "      <td>Deodorant Evaporator</td>\n",
       "      <td>NaN</td>\n",
       "      <td>NaN</td>\n",
       "    </tr>\n",
       "    <tr>\n",
       "      <th>2</th>\n",
       "      <td>Arithmetic List!</td>\n",
       "      <td>NaN</td>\n",
       "      <td>NaN</td>\n",
       "    </tr>\n",
       "    <tr>\n",
       "      <th>3</th>\n",
       "      <td>Fake Binary</td>\n",
       "      <td>NaN</td>\n",
       "      <td>NaN</td>\n",
       "    </tr>\n",
       "    <tr>\n",
       "      <th>4</th>\n",
       "      <td>If you can't sleep, just count sheep!!</td>\n",
       "      <td>NaN</td>\n",
       "      <td>NaN</td>\n",
       "    </tr>\n",
       "  </tbody>\n",
       "</table>\n",
       "</div>"
      ],
      "text/plain": [
       "                                          kata   date   minutes\n",
       "0  RegExp Fun #1 - When I miss few days of gym    NaN       NaN\n",
       "1                         Deodorant Evaporator    NaN       NaN\n",
       "2                             Arithmetic List!    NaN       NaN\n",
       "3                                  Fake Binary    NaN       NaN\n",
       "4       If you can't sleep, just count sheep!!    NaN       NaN"
      ]
     },
     "execution_count": 25,
     "metadata": {},
     "output_type": "execute_result"
    }
   ],
   "source": [
    "katas = pd.read_csv('input/katas.csv')\n",
    "katas.head()"
   ]
  },
  {
   "cell_type": "code",
   "execution_count": 6,
   "metadata": {},
   "outputs": [],
   "source": [
    "# https://www.codewars.com/api/v1/users/Livia Canet/code-challenges/completed\n",
    "\n",
    "def get_completed(user, \n",
    "                  host='https://www.codewars.com/api/v1/users/', \n",
    "                  path='/code-challenges/completed'):\n",
    "    url = host + user + path\n",
    "    resp = requests.get(url)\n",
    "    return resp.json()\n",
    " \n",
    "\n",
    "g = get_completed(ALUMNOS['Paula Postigo Rodrigo'])"
   ]
  },
  {
   "cell_type": "code",
   "execution_count": 8,
   "metadata": {},
   "outputs": [
    {
     "data": {
      "text/plain": [
       "[{'id': '5720a81309e1f9b232001c5b',\n",
       "  'name': 'RegExp Fun #1 - When I miss few days of gym',\n",
       "  'slug': 'regexp-fun-number-1-when-i-miss-few-days-of-gym',\n",
       "  'completedLanguages': ['python'],\n",
       "  'completedAt': '2019-02-01T16:20:21.241Z'},\n",
       " {'id': '5506b230a11c0aeab3000c1f',\n",
       "  'name': 'Deodorant Evaporator',\n",
       "  'slug': 'deodorant-evaporator',\n",
       "  'completedLanguages': ['python'],\n",
       "  'completedAt': '2019-01-31T10:23:30.056Z'},\n",
       " {'id': '541da001259d9ca85d000688',\n",
       "  'name': 'Arithmetic List!',\n",
       "  'slug': 'arithmetic-list',\n",
       "  'completedLanguages': ['python'],\n",
       "  'completedAt': '2019-01-25T00:38:39.165Z'},\n",
       " {'id': '57eae65a4321032ce000002d',\n",
       "  'name': 'Fake Binary',\n",
       "  'slug': 'fake-binary',\n",
       "  'completedLanguages': ['python'],\n",
       "  'completedAt': '2019-01-24T22:47:31.068Z'},\n",
       " {'id': '5b077ebdaf15be5c7f000077',\n",
       "  'name': \"If you can't sleep, just count sheep!!\",\n",
       "  'slug': 'if-you-cant-sleep-just-count-sheep',\n",
       "  'completedLanguages': ['python'],\n",
       "  'completedAt': '2019-01-24T08:44:25.357Z'},\n",
       " {'id': '50654ddff44f800200000004',\n",
       "  'name': 'Multiply',\n",
       "  'slug': 'multiply',\n",
       "  'completedLanguages': ['python'],\n",
       "  'completedAt': '2019-01-23T10:48:18.608Z'}]"
      ]
     },
     "execution_count": 8,
     "metadata": {},
     "output_type": "execute_result"
    }
   ],
   "source": [
    "g['data']"
   ]
  },
  {
   "cell_type": "code",
   "execution_count": null,
   "metadata": {},
   "outputs": [],
   "source": [
    "'''\n",
    "curl \"http://www.codewars.com/api/v1/users/some_user/code-challenges/completed?page=0\"\n",
    "\n",
    "{\n",
    "  \"totalPages\": 1,\n",
    "  \"totalItems\": 1, \n",
    "  \"data\": [{\n",
    "          \"id\":\"514b92a657cdc65150000006\",\n",
    "          \"name\":\"Multiples of 3 and 5\",\n",
    "          \"slug\":\"multiples-of-3-and-5\",\n",
    "          \"completedAt\": \"2017-04-06T16:32:09Z\",\n",
    "          \"completedLanguages\":[ \n",
    "            \"javascript\",\n",
    "            \"coffeescript\",\n",
    "            \"ruby\",\n",
    "            \"javascript\",\n",
    "            \"ruby\",\n",
    "            \"javascript\",\n",
    "            \"ruby\",\n",
    "            \"coffeescript\",\n",
    "            \"javascript\",\n",
    "            \"ruby\",\n",
    "            \"coffeescript\"\n",
    "          ]\n",
    "  }]\n",
    "}\n",
    "\n",
    "'''\n",
    "\n",
    "'''\n",
    "curl \"https://www.codewars.com/api/v1/code-challenges/valid-braces\"\n",
    "\n",
    "{\n",
    "    \"id\": \"5277c8a221e209d3f6000b56\",\n",
    "    \"name\": \"Valid Braces\",\n",
    "    \"slug\": \"valid-braces\",\n",
    "    \"category\": \"algorithms\",\n",
    "    \"publishedAt\": \"2013-11-05T00:07:31Z\",\n",
    "    \"approvedAt\": \"2013-12-20T14:53:06Z\",\n",
    "    \"languages\": [\n",
    "        \"javascript\",\n",
    "        \"coffeescript\"\n",
    "    ],\n",
    "    \"url\": \"http://www.codewars.com/kata/valid-braces\",\n",
    "    \"rank\": {\n",
    "        \"id\": -4,\n",
    "        \"name\": \"4 kyu\",\n",
    "        \"color\": \"blue\"\n",
    "    },\n",
    "    \"createdBy\": {\n",
    "        \"username\": \"xDranik\",\n",
    "        \"url\": \"http://www.codewars.com/users/xDranik\"\n",
    "    },\n",
    "    \"approvedBy\": {\n",
    "        \"username\": \"xDranik\",\n",
    "        \"url\": \"http://www.codewars.com/users/xDranik\"\n",
    "    },\n",
    "    \"description\": \"Write a function called `validBraces` that takes a string of braces, and determines if the order of the braces is valid. `validBraces` should return true if the string is valid, and false if it's invalid.\\n\\nThis Kata is similar to the Valid Parentheses Kata, but introduces four new characters. Open and closed brackets, and open and closed curly braces. Thanks to @arnedag for the idea!\\n\\nAll input strings will be nonempty, and will only consist of open parentheses '(' , closed parentheses ')', open brackets '[', closed brackets ']', open curly braces '{' and closed curly braces '}'. \\n\\n<b>What is considered Valid?</b>\\nA string of braces is considered valid if all braces are matched with the correct brace. <br/>\\nFor example:<br/>\\n'(){}[]' and '([{}])' would be considered valid, while '(}', '[(])', and '[({})](]' would be considered invalid.\\n\\n\\n<b>Examples:</b> <br/>\\n`validBraces( \\\"(){}[]\\\" )` => returns true <br/>\\n`validBraces( \\\"(}\\\" )` => returns false <br/>\\n`validBraces( \\\"[(])\\\" )` => returns false <br/>\\n`validBraces( \\\"([{}])\\\" )` => returns true <br/>\\n\",\n",
    "    \"totalAttempts\": 4911,\n",
    "    \"totalCompleted\": 919,\n",
    "    \"totalStars\": 12,\n",
    "    \"tags\": [\n",
    "        \"Algorithms\",\n",
    "        \"Validation\",\n",
    "        \"Logic\",\n",
    "        \"Utilities\"\n",
    "    ]\n",
    "}\n",
    "\n",
    "'''"
   ]
  },
  {
   "cell_type": "code",
   "execution_count": null,
   "metadata": {},
   "outputs": [],
   "source": [
    "# pruebas de git"
   ]
  }
 ],
 "metadata": {
  "kernelspec": {
   "display_name": "Python 3",
   "language": "python",
   "name": "python3"
  },
  "language_info": {
   "codemirror_mode": {
    "name": "ipython",
    "version": 3
   },
   "file_extension": ".py",
   "mimetype": "text/x-python",
   "name": "python",
   "nbconvert_exporter": "python",
   "pygments_lexer": "ipython3",
   "version": "3.6.7"
  }
 },
 "nbformat": 4,
 "nbformat_minor": 2
}
